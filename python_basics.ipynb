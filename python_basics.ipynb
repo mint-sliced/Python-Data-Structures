{
 "cells": [
  {
   "cell_type": "markdown",
   "id": "47f0ebde-9e7f-4727-aafe-1972bf39e7a4",
   "metadata": {},
   "source": [
    "## Lists\n",
    "Lists are used to store heterogeneous types of data. Lists are mutable - you cannot change the content within a list without changing its identity. Lists are enclosed by square brackets with elements separated by a comma."
   ]
  },
  {
   "cell_type": "code",
   "execution_count": 13,
   "id": "895fff62-34f2-45b1-9e86-e9e5205c352a",
   "metadata": {},
   "outputs": [
    {
     "data": {
      "text/plain": [
       "list"
      ]
     },
     "execution_count": 13,
     "metadata": {},
     "output_type": "execute_result"
    }
   ],
   "source": [
    "empty_list = [] # an empty list\n",
    "type(empty_list)"
   ]
  },
  {
   "cell_type": "code",
   "execution_count": 14,
   "id": "a4db8b09-e4a3-4910-9c87-4eda90138a6c",
   "metadata": {},
   "outputs": [
    {
     "data": {
      "text/plain": [
       "list"
      ]
     },
     "execution_count": 14,
     "metadata": {},
     "output_type": "execute_result"
    }
   ],
   "source": [
    "int_list = [10, 20, 30, 40, 50] # a list of integers\n",
    "type(int_list)"
   ]
  },
  {
   "cell_type": "code",
   "execution_count": 11,
   "id": "200a071b-64c1-4838-a665-cb892ab8d1a5",
   "metadata": {},
   "outputs": [
    {
     "data": {
      "text/plain": [
       "list"
      ]
     },
     "execution_count": 11,
     "metadata": {},
     "output_type": "execute_result"
    }
   ],
   "source": [
    "mixed_list = [10, 20.2, \"thirty\", 40] # a list of mixed data types\n",
    "type(mixed_list)"
   ]
  },
  {
   "cell_type": "code",
   "execution_count": 16,
   "id": "3e881155-831f-4345-bff9-b827f7243829",
   "metadata": {},
   "outputs": [
    {
     "data": {
      "text/plain": [
       "list"
      ]
     },
     "execution_count": 16,
     "metadata": {},
     "output_type": "execute_result"
    }
   ],
   "source": [
    "nested_list = [[10, 20, 30], [10.1, 20.2, 30.3], [\"ten\", \"twenty\", \"thirty\"]] # a nested list\n",
    "type(nested_list)"
   ]
  },
  {
   "cell_type": "code",
   "execution_count": 21,
   "id": "59fba525-6f13-4fa1-9122-1664caffab63",
   "metadata": {},
   "outputs": [
    {
     "data": {
      "text/plain": [
       "list"
      ]
     },
     "execution_count": 21,
     "metadata": {},
     "output_type": "execute_result"
    }
   ],
   "source": [
    "deep_list = [10, [20.5, [\"thirty one\",[40]]]] # deeply nested list\n",
    "type(deep_list)"
   ]
  },
  {
   "cell_type": "markdown",
   "id": "4f389e26-45b0-4130-8ef1-d81d6eaf4565",
   "metadata": {},
   "source": [
    "### List Manipulation"
   ]
  },
  {
   "cell_type": "code",
   "execution_count": 33,
   "id": "7fa36e9c-5847-44f3-a38d-3ce32dea96e9",
   "metadata": {},
   "outputs": [
    {
     "name": "stdout",
     "output_type": "stream",
     "text": [
      "[10, 20, 30, 40]\n"
     ]
    }
   ],
   "source": [
    "my_list = [10, 20, 30, 40]\n",
    "print(my_list)"
   ]
  },
  {
   "cell_type": "code",
   "execution_count": 34,
   "id": "e59fea21-a167-4430-8847-2739144a56e6",
   "metadata": {},
   "outputs": [
    {
     "name": "stdout",
     "output_type": "stream",
     "text": [
      "[10, 20, 30, 40, 50]\n"
     ]
    }
   ],
   "source": [
    "my_list.append(50) # add item\n",
    "print(my_list)"
   ]
  },
  {
   "cell_type": "code",
   "execution_count": 35,
   "id": "d48dbf27-9863-4b10-8e4c-5088fee7d3f1",
   "metadata": {},
   "outputs": [
    {
     "name": "stdout",
     "output_type": "stream",
     "text": [
      "[10, 20, 30, 40, 50, 60, 70, 80, 90]\n"
     ]
    }
   ],
   "source": [
    "my_list.extend([60, 70, 80, 90]) #append multiple items\n",
    "print(my_list)"
   ]
  },
  {
   "cell_type": "code",
   "execution_count": 36,
   "id": "f3c346bd-c177-4ab8-9573-effee02ee497",
   "metadata": {},
   "outputs": [
    {
     "name": "stdout",
     "output_type": "stream",
     "text": [
      "[0, 10, 20, 30, 40, 50, 60, 70, 80, 90]\n"
     ]
    }
   ],
   "source": [
    "my_list.insert(0, 0) # insert by position\n",
    "print(my_list)"
   ]
  },
  {
   "cell_type": "code",
   "execution_count": 37,
   "id": "435d35c3-78fb-4901-bbc4-4c520862630d",
   "metadata": {},
   "outputs": [
    {
     "name": "stdout",
     "output_type": "stream",
     "text": [
      "[0, 10, 20, 30, 40, 50, 60, 70, 80, 90, 100]\n"
     ]
    }
   ],
   "source": [
    "my_list.insert(10, 100) # insert by position\n",
    "print(my_list)"
   ]
  },
  {
   "cell_type": "code",
   "execution_count": 38,
   "id": "a2ca3f1e-5a49-4505-bb3b-497c4b8e4f8b",
   "metadata": {},
   "outputs": [
    {
     "name": "stdout",
     "output_type": "stream",
     "text": [
      "[0, 10, 20, 30, 40, 50, 60, 70, 80, 90]\n"
     ]
    }
   ],
   "source": [
    "my_list.pop() # remove last element\n",
    "print(my_list)"
   ]
  },
  {
   "cell_type": "code",
   "execution_count": 39,
   "id": "3c7560e5-b543-48bb-a608-0f60e7996a8e",
   "metadata": {},
   "outputs": [
    {
     "name": "stdout",
     "output_type": "stream",
     "text": [
      "[90, 80, 70, 60, 50, 40, 30, 20, 10, 0]\n"
     ]
    }
   ],
   "source": [
    "my_list.reverse()\n",
    "print(my_list)"
   ]
  },
  {
   "cell_type": "code",
   "execution_count": 40,
   "id": "380edb0f-4cb8-427c-bf47-56093f9ad198",
   "metadata": {},
   "outputs": [
    {
     "name": "stdout",
     "output_type": "stream",
     "text": [
      "[12, 35, 76, 20, 56, 34, 65]\n"
     ]
    }
   ],
   "source": [
    "new_list = [12, 35, 76, 20, 56, 34, 65]\n",
    "print(new_list)"
   ]
  },
  {
   "cell_type": "code",
   "execution_count": 41,
   "id": "4a651878-a624-4f0d-ba4a-4e16a8932a00",
   "metadata": {},
   "outputs": [
    {
     "name": "stdout",
     "output_type": "stream",
     "text": [
      "[12, 20, 34, 35, 56, 65, 76]\n"
     ]
    }
   ],
   "source": [
    "new_list.sort()\n",
    "print(new_list)"
   ]
  },
  {
   "cell_type": "markdown",
   "id": "b847f301-3e4d-4811-a601-75b49d29a256",
   "metadata": {},
   "source": [
    "## Dictionaries\n",
    "\n",
    "A dictionary is generally used for mapping. A dictionary in Python also has a mapping between its “Key” and “Value” pairs. You can access the dictionary using ‘keys’ to get the information or ‘value’ stored within these ‘keys’. Dictionaries are enclosed in brace brackets and the key: value pair should be separated by a comma."
   ]
  },
  {
   "cell_type": "code",
   "execution_count": 42,
   "id": "0d0c9555-d344-4ee5-8233-5d69f55e7c8d",
   "metadata": {},
   "outputs": [
    {
     "data": {
      "text/plain": [
       "dict"
      ]
     },
     "execution_count": 42,
     "metadata": {},
     "output_type": "execute_result"
    }
   ],
   "source": [
    "new_dict = {}\n",
    "type(new_dict)"
   ]
  },
  {
   "cell_type": "code",
   "execution_count": 59,
   "id": "1c88f259-3b70-4307-83bf-28e8ee9ca7cf",
   "metadata": {},
   "outputs": [
    {
     "name": "stdout",
     "output_type": "stream",
     "text": [
      "{'Jack': 2563, 'Rose': 8965, 'Rick': 7412, 'Luke': 9632, 'Molly': 4563}\n"
     ]
    }
   ],
   "source": [
    "new_dict = {'Jack': 2563, 'Rose': 8965, 'Rick': 7412, 'Luke': 9632, 'Molly': 4563}\n",
    "print(new_dict)"
   ]
  },
  {
   "cell_type": "code",
   "execution_count": 44,
   "id": "b162d3d7-374f-464b-b91a-3a2cb3251a9a",
   "metadata": {},
   "outputs": [
    {
     "data": {
      "text/plain": [
       "2563"
      ]
     },
     "execution_count": 44,
     "metadata": {},
     "output_type": "execute_result"
    }
   ],
   "source": [
    "new_dict['Jack'] # print key"
   ]
  },
  {
   "cell_type": "code",
   "execution_count": 45,
   "id": "e60b5040-cf73-4639-a0ed-b69f4e30f48a",
   "metadata": {},
   "outputs": [
    {
     "data": {
      "text/plain": [
       "(8965, 4563)"
      ]
     },
     "execution_count": 45,
     "metadata": {},
     "output_type": "execute_result"
    }
   ],
   "source": [
    "new_dict['Rose'], new_dict['Molly'] # print multiple keys"
   ]
  },
  {
   "cell_type": "markdown",
   "id": "2741160b-ff79-4ee2-8a2d-cff759b8403b",
   "metadata": {},
   "source": [
    "### Dictionary Manipulation"
   ]
  },
  {
   "cell_type": "code",
   "execution_count": 47,
   "id": "64068ddc-b673-44ed-bf66-5760d16c477e",
   "metadata": {},
   "outputs": [
    {
     "data": {
      "text/plain": [
       "5"
      ]
     },
     "execution_count": 47,
     "metadata": {},
     "output_type": "execute_result"
    }
   ],
   "source": [
    "len(new_dict) # find length"
   ]
  },
  {
   "cell_type": "code",
   "execution_count": 52,
   "id": "d73b8ceb-9d67-45df-90ae-46bca3e087b8",
   "metadata": {},
   "outputs": [
    {
     "data": {
      "text/plain": [
       "dict_keys(['Jack', 'Rose', 'Rick', 'Luke', 'Molly'])"
      ]
     },
     "execution_count": 52,
     "metadata": {},
     "output_type": "execute_result"
    }
   ],
   "source": [
    "new_dict.keys() # return all keys"
   ]
  },
  {
   "cell_type": "code",
   "execution_count": 57,
   "id": "ac3ce78f-7836-4927-aec1-dfd1ebac20d6",
   "metadata": {},
   "outputs": [
    {
     "data": {
      "text/plain": [
       "dict_values([2563, 7412, 9632])"
      ]
     },
     "execution_count": 57,
     "metadata": {},
     "output_type": "execute_result"
    }
   ],
   "source": [
    "new_dict.values() # return all values"
   ]
  },
  {
   "cell_type": "code",
   "execution_count": 60,
   "id": "94587f3e-8420-4714-9217-cbdb7927b5cf",
   "metadata": {},
   "outputs": [
    {
     "name": "stdout",
     "output_type": "stream",
     "text": [
      "{'Jack': 2563, 'Rick': 7412, 'Luke': 9632, 'Molly': 4563}\n"
     ]
    }
   ],
   "source": [
    "new_dict.pop('Rose') # delete by value\n",
    "print(new_dict)"
   ]
  },
  {
   "cell_type": "code",
   "execution_count": 66,
   "id": "32bb1b45-a22c-45e9-8ec4-96371b1fd2f8",
   "metadata": {},
   "outputs": [
    {
     "data": {
      "text/plain": [
       "['Jack', 'Luke', 'Molly', 'Rick']"
      ]
     },
     "execution_count": 66,
     "metadata": {},
     "output_type": "execute_result"
    }
   ],
   "source": [
    "sorted(new_dict) #keys sorted by value"
   ]
  },
  {
   "cell_type": "code",
   "execution_count": 67,
   "id": "b6ceb024-ce08-4a82-ac77-5910403b4553",
   "metadata": {},
   "outputs": [
    {
     "name": "stdout",
     "output_type": "stream",
     "text": [
      "{}\n"
     ]
    }
   ],
   "source": [
    "new_dict.clear()\n",
    "print(new_dict)"
   ]
  },
  {
   "cell_type": "markdown",
   "id": "0a424887-e0f1-4cf5-8721-e1a5928e6ae7",
   "metadata": {},
   "source": [
    "## Tuples\n",
    "Tuples are an immutable list. Similar to lists, a tuple can contain a heterogeneous sequence of elements, but it is impossible to append, edit or remove any individual elements within a tuple. Tuples are enclosed in parentheses, and commas separate the items within them."
   ]
  },
  {
   "cell_type": "code",
   "execution_count": 69,
   "id": "8509afa2-bdbc-457a-8d6f-8ebd6b89855a",
   "metadata": {},
   "outputs": [
    {
     "data": {
      "text/plain": [
       "tuple"
      ]
     },
     "execution_count": 69,
     "metadata": {},
     "output_type": "execute_result"
    }
   ],
   "source": [
    "new_tup = ()\n",
    "type(new_tup)"
   ]
  },
  {
   "cell_type": "code",
   "execution_count": 70,
   "id": "b07c2c7a-de72-40f7-bfd3-ef2f91912dfd",
   "metadata": {},
   "outputs": [
    {
     "data": {
      "text/plain": [
       "tuple"
      ]
     },
     "execution_count": 70,
     "metadata": {},
     "output_type": "execute_result"
    }
   ],
   "source": [
    "int_tup = (10, 20, 30, 40) # tuple of ints\n",
    "type(int_tup)"
   ]
  },
  {
   "cell_type": "code",
   "execution_count": 71,
   "id": "00deae53-e1bf-4d03-ba52-0a2561e634c2",
   "metadata": {},
   "outputs": [
    {
     "data": {
      "text/plain": [
       "tuple"
      ]
     },
     "execution_count": 71,
     "metadata": {},
     "output_type": "execute_result"
    }
   ],
   "source": [
    "nested_tup = ((10, 20, 30), (10.1, 20.2, 30.3), (\"ten\", \"twenty\", \"thirty\")) # nested tuple\n",
    "type(nested_tup)"
   ]
  },
  {
   "cell_type": "code",
   "execution_count": 72,
   "id": "a82399e2-c84a-4f1e-ae2f-f1dc096fc4f7",
   "metadata": {},
   "outputs": [
    {
     "data": {
      "text/plain": [
       "tuple"
      ]
     },
     "execution_count": 72,
     "metadata": {},
     "output_type": "execute_result"
    }
   ],
   "source": [
    "deep_tup = (10, (20.2, (\"thirty\", (40)))) # deeply nested tuple\n",
    "type(deep_tup)"
   ]
  },
  {
   "cell_type": "markdown",
   "id": "4236f658-ce86-4682-a4c0-b9444d35f5bd",
   "metadata": {},
   "source": [
    "## Sets\n",
    "A set is an unordered collection with no duplicate elements. They are useful to create lists that hold only unique values and are also mutable. The elements of a set can be anything like numbers, strings or characters. Curly braces or the set () function can be used to create sets, and the items within them are separated by commas."
   ]
  },
  {
   "cell_type": "code",
   "execution_count": 73,
   "id": "9b9188dc-b472-4854-864c-ebe637c11213",
   "metadata": {},
   "outputs": [
    {
     "data": {
      "text/plain": [
       "dict"
      ]
     },
     "execution_count": 73,
     "metadata": {},
     "output_type": "execute_result"
    }
   ],
   "source": [
    "new_set = {} # example: empty sets cannot be created\n",
    "type(new_set)"
   ]
  },
  {
   "cell_type": "code",
   "execution_count": 80,
   "id": "a79afcb3-0b6e-4248-9f8c-af31f67a9469",
   "metadata": {},
   "outputs": [
    {
     "name": "stdout",
     "output_type": "stream",
     "text": [
      "{'Plum', 'Orange', 'Apple', 'Pear'}\n"
     ]
    }
   ],
   "source": [
    "new_set = {'Apple', 'Orange', 'Pear', 'Plum', 'Pear'}\n",
    "type(new_set)\n",
    "print(new_set) # 2x pear - only prints unique values"
   ]
  },
  {
   "cell_type": "code",
   "execution_count": null,
   "id": "7aec6705-275b-4be4-a4b5-42d25b1d3006",
   "metadata": {},
   "outputs": [],
   "source": []
  }
 ],
 "metadata": {
  "kernelspec": {
   "display_name": "Python 3 (ipykernel)",
   "language": "python",
   "name": "python3"
  },
  "language_info": {
   "codemirror_mode": {
    "name": "ipython",
    "version": 3
   },
   "file_extension": ".py",
   "mimetype": "text/x-python",
   "name": "python",
   "nbconvert_exporter": "python",
   "pygments_lexer": "ipython3",
   "version": "3.11.7"
  }
 },
 "nbformat": 4,
 "nbformat_minor": 5
}
